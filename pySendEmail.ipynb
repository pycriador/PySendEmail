{
  "nbformat": 4,
  "nbformat_minor": 0,
  "metadata": {
    "colab": {
      "provenance": [],
      "collapsed_sections": [],
      "authorship_tag": "ABX9TyNQqMNRxkDSikpkK5y/z5yR",
      "include_colab_link": true
    },
    "kernelspec": {
      "name": "python3",
      "display_name": "Python 3"
    },
    "language_info": {
      "name": "python"
    }
  },
  "cells": [
    {
      "cell_type": "markdown",
      "metadata": {
        "id": "view-in-github",
        "colab_type": "text"
      },
      "source": [
        "<a href=\"https://colab.research.google.com/github/pycriador/pySendEmail/blob/main/pySendEmail.ipynb\" target=\"_parent\"><img src=\"https://colab.research.google.com/assets/colab-badge.svg\" alt=\"Open In Colab\"/></a>"
      ]
    },
    {
      "cell_type": "markdown",
      "source": [
        "# Python SendEmail (Gmail version)\n",
        "\n",
        "Um script simples para enviar e-mails com referências uma base no Excel, anexando uma mensagem em HTML (se desejar), colocando anexos (se desejar) e utilizando o próprio SMTP do Google (gmail). "
      ],
      "metadata": {
        "id": "XE03UdYjDjoo"
      }
    },
    {
      "cell_type": "code",
      "source": [
        "!pip install ninja2"
      ],
      "metadata": {
        "colab": {
          "base_uri": "https://localhost:8080/"
        },
        "id": "fD843uMDDyMS",
        "outputId": "ddce23b8-9b68-4a45-f948-dab3f9c8cfa9"
      },
      "execution_count": 11,
      "outputs": [
        {
          "output_type": "stream",
          "name": "stdout",
          "text": [
            "Looking in indexes: https://pypi.org/simple, https://us-python.pkg.dev/colab-wheels/public/simple/\n",
            "Requirement already satisfied: ninja2 in /usr/local/lib/python3.7/dist-packages (0.1)\n",
            "Requirement already satisfied: Jinja2 in /usr/local/lib/python3.7/dist-packages (from ninja2) (2.11.3)\n",
            "Requirement already satisfied: MarkupSafe>=0.23 in /usr/local/lib/python3.7/dist-packages (from Jinja2->ninja2) (2.0.1)\n"
          ]
        }
      ]
    },
    {
      "cell_type": "code",
      "execution_count": 12,
      "metadata": {
        "id": "jmabamIuDESr"
      },
      "outputs": [],
      "source": [
        "import smtplib\n",
        "from email import encoders\n",
        "#Python 2\n",
        "#from email.MIMEMultipart import MIMEMultipart\n",
        "#from email.MIMEText import MIMEText\n",
        "#from email.MIMEBase import MIMEBase\n",
        "#Python 3\n",
        "from email.mime.multipart import MIMEMultipart\n",
        "from email.mime.text import MIMEText\n",
        "from email.mime.base import MIMEBase\n",
        "#Modificar informações do HTML\n",
        "from jinja2 import Template, Environment, FileSystemLoader\n",
        "#Modificar informação do DOCX\n",
        "#from docxtpl import DocxTemplate"
      ]
    },
    {
      "cell_type": "markdown",
      "source": [
        "Informe o arquivo XLSX (arquivo Excel) com os dados que você deseja preencher no template"
      ],
      "metadata": {
        "id": "p1TVwfiBEnxI"
      }
    },
    {
      "cell_type": "code",
      "source": [
        "from google.colab import files\n",
        "import os\n",
        "import shutil\n",
        "\n",
        "print('Removendo arquivos de exemplo')\n",
        "try: shutil.rmtree('sample_data')\n",
        "except: pass\n",
        "\n",
        "print('Escolha o arquivo XLSX')\n",
        "ap_up = files.upload()\n",
        "\n",
        "#print('Limpando bases antigas')\n",
        "#try:\n",
        "#  os.remove('base.xlsx')\n",
        "#except Exception as e:\n",
        "#  print(f'Erro: {e}')\n",
        "\n",
        "#for upload in ap_up:\n",
        "#  os.rename(upload, \"base.xlsx\")"
      ],
      "metadata": {
        "colab": {
          "base_uri": "https://localhost:8080/",
          "height": 110
        },
        "id": "NyZWxPy9ElhS",
        "outputId": "3e5c77a1-fe10-4b19-c603-931d181e5510"
      },
      "execution_count": 43,
      "outputs": [
        {
          "output_type": "stream",
          "name": "stdout",
          "text": [
            "Removendo arquivos de exemplo\n",
            "Escolha o arquivo XLSX\n"
          ]
        },
        {
          "output_type": "display_data",
          "data": {
            "text/plain": [
              "<IPython.core.display.HTML object>"
            ],
            "text/html": [
              "\n",
              "     <input type=\"file\" id=\"files-d1d5863e-89dc-4df4-a227-a1509a22001d\" name=\"files[]\" multiple disabled\n",
              "        style=\"border:none\" />\n",
              "     <output id=\"result-d1d5863e-89dc-4df4-a227-a1509a22001d\">\n",
              "      Upload widget is only available when the cell has been executed in the\n",
              "      current browser session. Please rerun this cell to enable.\n",
              "      </output>\n",
              "      <script>// Copyright 2017 Google LLC\n",
              "//\n",
              "// Licensed under the Apache License, Version 2.0 (the \"License\");\n",
              "// you may not use this file except in compliance with the License.\n",
              "// You may obtain a copy of the License at\n",
              "//\n",
              "//      http://www.apache.org/licenses/LICENSE-2.0\n",
              "//\n",
              "// Unless required by applicable law or agreed to in writing, software\n",
              "// distributed under the License is distributed on an \"AS IS\" BASIS,\n",
              "// WITHOUT WARRANTIES OR CONDITIONS OF ANY KIND, either express or implied.\n",
              "// See the License for the specific language governing permissions and\n",
              "// limitations under the License.\n",
              "\n",
              "/**\n",
              " * @fileoverview Helpers for google.colab Python module.\n",
              " */\n",
              "(function(scope) {\n",
              "function span(text, styleAttributes = {}) {\n",
              "  const element = document.createElement('span');\n",
              "  element.textContent = text;\n",
              "  for (const key of Object.keys(styleAttributes)) {\n",
              "    element.style[key] = styleAttributes[key];\n",
              "  }\n",
              "  return element;\n",
              "}\n",
              "\n",
              "// Max number of bytes which will be uploaded at a time.\n",
              "const MAX_PAYLOAD_SIZE = 100 * 1024;\n",
              "\n",
              "function _uploadFiles(inputId, outputId) {\n",
              "  const steps = uploadFilesStep(inputId, outputId);\n",
              "  const outputElement = document.getElementById(outputId);\n",
              "  // Cache steps on the outputElement to make it available for the next call\n",
              "  // to uploadFilesContinue from Python.\n",
              "  outputElement.steps = steps;\n",
              "\n",
              "  return _uploadFilesContinue(outputId);\n",
              "}\n",
              "\n",
              "// This is roughly an async generator (not supported in the browser yet),\n",
              "// where there are multiple asynchronous steps and the Python side is going\n",
              "// to poll for completion of each step.\n",
              "// This uses a Promise to block the python side on completion of each step,\n",
              "// then passes the result of the previous step as the input to the next step.\n",
              "function _uploadFilesContinue(outputId) {\n",
              "  const outputElement = document.getElementById(outputId);\n",
              "  const steps = outputElement.steps;\n",
              "\n",
              "  const next = steps.next(outputElement.lastPromiseValue);\n",
              "  return Promise.resolve(next.value.promise).then((value) => {\n",
              "    // Cache the last promise value to make it available to the next\n",
              "    // step of the generator.\n",
              "    outputElement.lastPromiseValue = value;\n",
              "    return next.value.response;\n",
              "  });\n",
              "}\n",
              "\n",
              "/**\n",
              " * Generator function which is called between each async step of the upload\n",
              " * process.\n",
              " * @param {string} inputId Element ID of the input file picker element.\n",
              " * @param {string} outputId Element ID of the output display.\n",
              " * @return {!Iterable<!Object>} Iterable of next steps.\n",
              " */\n",
              "function* uploadFilesStep(inputId, outputId) {\n",
              "  const inputElement = document.getElementById(inputId);\n",
              "  inputElement.disabled = false;\n",
              "\n",
              "  const outputElement = document.getElementById(outputId);\n",
              "  outputElement.innerHTML = '';\n",
              "\n",
              "  const pickedPromise = new Promise((resolve) => {\n",
              "    inputElement.addEventListener('change', (e) => {\n",
              "      resolve(e.target.files);\n",
              "    });\n",
              "  });\n",
              "\n",
              "  const cancel = document.createElement('button');\n",
              "  inputElement.parentElement.appendChild(cancel);\n",
              "  cancel.textContent = 'Cancel upload';\n",
              "  const cancelPromise = new Promise((resolve) => {\n",
              "    cancel.onclick = () => {\n",
              "      resolve(null);\n",
              "    };\n",
              "  });\n",
              "\n",
              "  // Wait for the user to pick the files.\n",
              "  const files = yield {\n",
              "    promise: Promise.race([pickedPromise, cancelPromise]),\n",
              "    response: {\n",
              "      action: 'starting',\n",
              "    }\n",
              "  };\n",
              "\n",
              "  cancel.remove();\n",
              "\n",
              "  // Disable the input element since further picks are not allowed.\n",
              "  inputElement.disabled = true;\n",
              "\n",
              "  if (!files) {\n",
              "    return {\n",
              "      response: {\n",
              "        action: 'complete',\n",
              "      }\n",
              "    };\n",
              "  }\n",
              "\n",
              "  for (const file of files) {\n",
              "    const li = document.createElement('li');\n",
              "    li.append(span(file.name, {fontWeight: 'bold'}));\n",
              "    li.append(span(\n",
              "        `(${file.type || 'n/a'}) - ${file.size} bytes, ` +\n",
              "        `last modified: ${\n",
              "            file.lastModifiedDate ? file.lastModifiedDate.toLocaleDateString() :\n",
              "                                    'n/a'} - `));\n",
              "    const percent = span('0% done');\n",
              "    li.appendChild(percent);\n",
              "\n",
              "    outputElement.appendChild(li);\n",
              "\n",
              "    const fileDataPromise = new Promise((resolve) => {\n",
              "      const reader = new FileReader();\n",
              "      reader.onload = (e) => {\n",
              "        resolve(e.target.result);\n",
              "      };\n",
              "      reader.readAsArrayBuffer(file);\n",
              "    });\n",
              "    // Wait for the data to be ready.\n",
              "    let fileData = yield {\n",
              "      promise: fileDataPromise,\n",
              "      response: {\n",
              "        action: 'continue',\n",
              "      }\n",
              "    };\n",
              "\n",
              "    // Use a chunked sending to avoid message size limits. See b/62115660.\n",
              "    let position = 0;\n",
              "    do {\n",
              "      const length = Math.min(fileData.byteLength - position, MAX_PAYLOAD_SIZE);\n",
              "      const chunk = new Uint8Array(fileData, position, length);\n",
              "      position += length;\n",
              "\n",
              "      const base64 = btoa(String.fromCharCode.apply(null, chunk));\n",
              "      yield {\n",
              "        response: {\n",
              "          action: 'append',\n",
              "          file: file.name,\n",
              "          data: base64,\n",
              "        },\n",
              "      };\n",
              "\n",
              "      let percentDone = fileData.byteLength === 0 ?\n",
              "          100 :\n",
              "          Math.round((position / fileData.byteLength) * 100);\n",
              "      percent.textContent = `${percentDone}% done`;\n",
              "\n",
              "    } while (position < fileData.byteLength);\n",
              "  }\n",
              "\n",
              "  // All done.\n",
              "  yield {\n",
              "    response: {\n",
              "      action: 'complete',\n",
              "    }\n",
              "  };\n",
              "}\n",
              "\n",
              "scope.google = scope.google || {};\n",
              "scope.google.colab = scope.google.colab || {};\n",
              "scope.google.colab._files = {\n",
              "  _uploadFiles,\n",
              "  _uploadFilesContinue,\n",
              "};\n",
              "})(self);\n",
              "</script> "
            ]
          },
          "metadata": {}
        },
        {
          "output_type": "stream",
          "name": "stdout",
          "text": [
            "Saving base.xlsx to base.xlsx\n"
          ]
        }
      ]
    },
    {
      "cell_type": "code",
      "source": [
        "from google.colab import files\n",
        "\n",
        "print('Escolha o arquivo HTML')\n",
        "ap_up = files.upload()\n",
        "\n",
        "print('Criando pasta de templates')\n",
        "try:\n",
        "  !mkdir templates\n",
        "except Exception as e:\n",
        "  print(f'Erro: {e}')\n",
        "\n",
        "print('Movendo arquivos HTML para pasta de template')\n",
        "!mv *.html templates"
      ],
      "metadata": {
        "colab": {
          "base_uri": "https://localhost:8080/",
          "height": 146
        },
        "id": "REf2lPT3FF8q",
        "outputId": "f011ef47-0784-4a2d-d90b-ff87bbabe3d9"
      },
      "execution_count": 41,
      "outputs": [
        {
          "output_type": "stream",
          "name": "stdout",
          "text": [
            "Escolha o arquivo HTML\n"
          ]
        },
        {
          "output_type": "display_data",
          "data": {
            "text/plain": [
              "<IPython.core.display.HTML object>"
            ],
            "text/html": [
              "\n",
              "     <input type=\"file\" id=\"files-fd61e906-d624-4919-bdad-8f4a54facd92\" name=\"files[]\" multiple disabled\n",
              "        style=\"border:none\" />\n",
              "     <output id=\"result-fd61e906-d624-4919-bdad-8f4a54facd92\">\n",
              "      Upload widget is only available when the cell has been executed in the\n",
              "      current browser session. Please rerun this cell to enable.\n",
              "      </output>\n",
              "      <script>// Copyright 2017 Google LLC\n",
              "//\n",
              "// Licensed under the Apache License, Version 2.0 (the \"License\");\n",
              "// you may not use this file except in compliance with the License.\n",
              "// You may obtain a copy of the License at\n",
              "//\n",
              "//      http://www.apache.org/licenses/LICENSE-2.0\n",
              "//\n",
              "// Unless required by applicable law or agreed to in writing, software\n",
              "// distributed under the License is distributed on an \"AS IS\" BASIS,\n",
              "// WITHOUT WARRANTIES OR CONDITIONS OF ANY KIND, either express or implied.\n",
              "// See the License for the specific language governing permissions and\n",
              "// limitations under the License.\n",
              "\n",
              "/**\n",
              " * @fileoverview Helpers for google.colab Python module.\n",
              " */\n",
              "(function(scope) {\n",
              "function span(text, styleAttributes = {}) {\n",
              "  const element = document.createElement('span');\n",
              "  element.textContent = text;\n",
              "  for (const key of Object.keys(styleAttributes)) {\n",
              "    element.style[key] = styleAttributes[key];\n",
              "  }\n",
              "  return element;\n",
              "}\n",
              "\n",
              "// Max number of bytes which will be uploaded at a time.\n",
              "const MAX_PAYLOAD_SIZE = 100 * 1024;\n",
              "\n",
              "function _uploadFiles(inputId, outputId) {\n",
              "  const steps = uploadFilesStep(inputId, outputId);\n",
              "  const outputElement = document.getElementById(outputId);\n",
              "  // Cache steps on the outputElement to make it available for the next call\n",
              "  // to uploadFilesContinue from Python.\n",
              "  outputElement.steps = steps;\n",
              "\n",
              "  return _uploadFilesContinue(outputId);\n",
              "}\n",
              "\n",
              "// This is roughly an async generator (not supported in the browser yet),\n",
              "// where there are multiple asynchronous steps and the Python side is going\n",
              "// to poll for completion of each step.\n",
              "// This uses a Promise to block the python side on completion of each step,\n",
              "// then passes the result of the previous step as the input to the next step.\n",
              "function _uploadFilesContinue(outputId) {\n",
              "  const outputElement = document.getElementById(outputId);\n",
              "  const steps = outputElement.steps;\n",
              "\n",
              "  const next = steps.next(outputElement.lastPromiseValue);\n",
              "  return Promise.resolve(next.value.promise).then((value) => {\n",
              "    // Cache the last promise value to make it available to the next\n",
              "    // step of the generator.\n",
              "    outputElement.lastPromiseValue = value;\n",
              "    return next.value.response;\n",
              "  });\n",
              "}\n",
              "\n",
              "/**\n",
              " * Generator function which is called between each async step of the upload\n",
              " * process.\n",
              " * @param {string} inputId Element ID of the input file picker element.\n",
              " * @param {string} outputId Element ID of the output display.\n",
              " * @return {!Iterable<!Object>} Iterable of next steps.\n",
              " */\n",
              "function* uploadFilesStep(inputId, outputId) {\n",
              "  const inputElement = document.getElementById(inputId);\n",
              "  inputElement.disabled = false;\n",
              "\n",
              "  const outputElement = document.getElementById(outputId);\n",
              "  outputElement.innerHTML = '';\n",
              "\n",
              "  const pickedPromise = new Promise((resolve) => {\n",
              "    inputElement.addEventListener('change', (e) => {\n",
              "      resolve(e.target.files);\n",
              "    });\n",
              "  });\n",
              "\n",
              "  const cancel = document.createElement('button');\n",
              "  inputElement.parentElement.appendChild(cancel);\n",
              "  cancel.textContent = 'Cancel upload';\n",
              "  const cancelPromise = new Promise((resolve) => {\n",
              "    cancel.onclick = () => {\n",
              "      resolve(null);\n",
              "    };\n",
              "  });\n",
              "\n",
              "  // Wait for the user to pick the files.\n",
              "  const files = yield {\n",
              "    promise: Promise.race([pickedPromise, cancelPromise]),\n",
              "    response: {\n",
              "      action: 'starting',\n",
              "    }\n",
              "  };\n",
              "\n",
              "  cancel.remove();\n",
              "\n",
              "  // Disable the input element since further picks are not allowed.\n",
              "  inputElement.disabled = true;\n",
              "\n",
              "  if (!files) {\n",
              "    return {\n",
              "      response: {\n",
              "        action: 'complete',\n",
              "      }\n",
              "    };\n",
              "  }\n",
              "\n",
              "  for (const file of files) {\n",
              "    const li = document.createElement('li');\n",
              "    li.append(span(file.name, {fontWeight: 'bold'}));\n",
              "    li.append(span(\n",
              "        `(${file.type || 'n/a'}) - ${file.size} bytes, ` +\n",
              "        `last modified: ${\n",
              "            file.lastModifiedDate ? file.lastModifiedDate.toLocaleDateString() :\n",
              "                                    'n/a'} - `));\n",
              "    const percent = span('0% done');\n",
              "    li.appendChild(percent);\n",
              "\n",
              "    outputElement.appendChild(li);\n",
              "\n",
              "    const fileDataPromise = new Promise((resolve) => {\n",
              "      const reader = new FileReader();\n",
              "      reader.onload = (e) => {\n",
              "        resolve(e.target.result);\n",
              "      };\n",
              "      reader.readAsArrayBuffer(file);\n",
              "    });\n",
              "    // Wait for the data to be ready.\n",
              "    let fileData = yield {\n",
              "      promise: fileDataPromise,\n",
              "      response: {\n",
              "        action: 'continue',\n",
              "      }\n",
              "    };\n",
              "\n",
              "    // Use a chunked sending to avoid message size limits. See b/62115660.\n",
              "    let position = 0;\n",
              "    do {\n",
              "      const length = Math.min(fileData.byteLength - position, MAX_PAYLOAD_SIZE);\n",
              "      const chunk = new Uint8Array(fileData, position, length);\n",
              "      position += length;\n",
              "\n",
              "      const base64 = btoa(String.fromCharCode.apply(null, chunk));\n",
              "      yield {\n",
              "        response: {\n",
              "          action: 'append',\n",
              "          file: file.name,\n",
              "          data: base64,\n",
              "        },\n",
              "      };\n",
              "\n",
              "      let percentDone = fileData.byteLength === 0 ?\n",
              "          100 :\n",
              "          Math.round((position / fileData.byteLength) * 100);\n",
              "      percent.textContent = `${percentDone}% done`;\n",
              "\n",
              "    } while (position < fileData.byteLength);\n",
              "  }\n",
              "\n",
              "  // All done.\n",
              "  yield {\n",
              "    response: {\n",
              "      action: 'complete',\n",
              "    }\n",
              "  };\n",
              "}\n",
              "\n",
              "scope.google = scope.google || {};\n",
              "scope.google.colab = scope.google.colab || {};\n",
              "scope.google.colab._files = {\n",
              "  _uploadFiles,\n",
              "  _uploadFilesContinue,\n",
              "};\n",
              "})(self);\n",
              "</script> "
            ]
          },
          "metadata": {}
        },
        {
          "output_type": "stream",
          "name": "stdout",
          "text": [
            "Saving mensagem.html to mensagem.html\n",
            "Criando pasta de templates\n",
            "mkdir: cannot create directory ‘templates’: File exists\n",
            "Movendo arquivos HTML para pasta de template\n"
          ]
        }
      ]
    },
    {
      "cell_type": "markdown",
      "source": [
        "Se desejar anexar arquivos no seu e-mail, realizar o upload por aqui"
      ],
      "metadata": {
        "id": "HtbueTPQaxOM"
      }
    },
    {
      "cell_type": "code",
      "source": [
        "from google.colab import files\n",
        "\n",
        "print(\"Carregar anexos\")\n",
        "ap_up = files.upload()"
      ],
      "metadata": {
        "id": "C-inaHCFWsxc"
      },
      "execution_count": null,
      "outputs": []
    },
    {
      "cell_type": "markdown",
      "source": [
        "Iniciando o programa"
      ],
      "metadata": {
        "id": "9c4KVZZfZPUt"
      }
    },
    {
      "cell_type": "code",
      "source": [
        "import pandas as pd\n",
        "from jinja2 import Template, Environment, FileSystemLoader\n",
        "\n",
        "class SendEmail():\n",
        "  def __init__(self, fromaddr=None, subject=None):\n",
        "    #Configura variáveis da Classe\n",
        "    self.fromaddr = fromaddr\n",
        "    self.subject = subject\n",
        "\n",
        "    #Cria a mensagem como MIMEMultipart\n",
        "    self.msg = MIMEMultipart()\n",
        "    #Já adiciona o remetente e o assunto\n",
        "    self.msg['From'] = fromaddr\n",
        "    self.msg['Subject'] = subject\n",
        "\n",
        "  def read_base(self, file=None, sheet=None):\n",
        "    #Abrir planilha Excel em XLSX\n",
        "    xlsx = pd.ExcelFile(file)\n",
        "    if sheet:\n",
        "      return pd.read_excel(xlsx, sheet)\n",
        "    else:\n",
        "      return pd.read_excel(xlsx)\n",
        "\n",
        "  def attachfile(self, filename=None):\n",
        "    #Abrir o anexo\n",
        "    attachment = open(filename, \"rb\")\n",
        "    #Converter o anexo\n",
        "    part = MIMEBase('application', 'octet-stream')\n",
        "    part.set_payload((attachment).read())\n",
        "    encoders.encode_base64(part)\n",
        "    #Adicionar o header\n",
        "    part.add_header('Content-Disposition', \"attachment; filename= %s\" % filename)\n",
        "    #Adicionar o anexo na mensagem principal\n",
        "    self.msg.attach(part)\n",
        "    #Fechar o arquivo\n",
        "    attachment.close()\n",
        "\n",
        "  def read_template(self, templates='templates', page=None, encoding='ISO-8859-1'):\n",
        "    # Carregar diretório de templates\n",
        "    file_loader = FileSystemLoader(templates, encoding=encoding)\n",
        "    env = Environment(loader=file_loader)\n",
        "    # Carregar o template\n",
        "    self.template = env.get_template(page)\n",
        "\n",
        "  def add_mensage_html(self, htmlfile=None, encoding='UTF-8', data=None):\n",
        "    app.read_template(templates='templates', page=htmlfile, encoding=encoding)\n",
        "    html = app.template.render(data)\n",
        "    self.msg.attach(MIMEText(html,'html','UTF-8'))\n",
        "\n",
        "  def smtp_config(self, smtpserver=None, smtpport=465, login=None, password=None):\n",
        "    #Configurações do Servidor Gmail\n",
        "    self.server = smtplib.SMTP_SSL(smtpserver, int(smtpport))\n",
        "    self.server.ehlo()\n",
        "    #Informar usuário e senha para autenticação\n",
        "    self.server.login(login, password)\n",
        "\n",
        "  def send_email(self, toaddr=None):\n",
        "    try:\n",
        "      #Adicionar o destinatário\n",
        "      self.msg['To'] = toaddr\n",
        "      #Converter a mensagem em string\n",
        "      text = self.msg.as_string()\n",
        "      self.server.sendmail(self.fromaddr, [toaddr], text)\n",
        "      #self.server.quit()\n",
        "    except Exception as e:\n",
        "      print(e)\n"
      ],
      "metadata": {
        "id": "DIhhP_CNILms"
      },
      "execution_count": 36,
      "outputs": []
    },
    {
      "cell_type": "markdown",
      "source": [
        "Agora você pode personalizar os dados de envio. Os comentários estão explicando cada parte do código, qualquer dúvida é só me chamar!"
      ],
      "metadata": {
        "id": "j3wwct1iZXcE"
      }
    },
    {
      "cell_type": "code",
      "source": [
        "#Iniciar o programa informando quem vai mandar o e-mail e qual é o assunto\n",
        "app = SendEmail(fromaddr='@gmail.com', subject='Muito obrigado!')\n",
        "\n",
        "#Dados enviados para substituição no template HTML\n",
        "data = {'NOME': 'Sr. Vinicius', 'CONTATO': 'py.criador@gmail.com'}\n",
        "app.add_mensage_html(htmlfile='mensagem.html', encoding='UTF-8', data=data)\n",
        "\n",
        "#Para adicionar anexo\n",
        "app.attachfile(filename='base.xlsx')\n",
        "# Adicionar o segundo anexo (se quiser)\n",
        "#app.attachfile(filename='templates/mensagem.html')\n",
        "\n",
        "# Para autenticar no SMTP do Google, você precisa criar uma aplicação, maiores \n",
        "# detalhes na documentação (Inglês)\n",
        "# Documentação: https://support.google.com/mail/answer/185833?hl=en\n",
        "# Resumindo, você precisa acessar a URL:\n",
        "# https://myaccount.google.com/\n",
        "# Ir em:\n",
        "# Segurança -> Como fazer login no Google (Senhas de App) -> Login -> \n",
        "# Selecionar App -> Selecionar dispositivo -> Gerar\n",
        "# Vai gerar uma senha aleatória, você vai usar essa senha nessa aplicação\n",
        "# É só informar o seu e-mail em (login) e senha em (password)\n",
        "\n",
        "#Adicionar configurações do servidor (Gmail)\n",
        "app.smtp_config(smtpserver='smtp.gmail.com', smtpport=465, login='@gmail.com', password='')\n",
        "#Informar o destinatário\n",
        "app.send_email(toaddr='')\n"
      ],
      "metadata": {
        "id": "c0EmToAlI3qF"
      },
      "execution_count": 37,
      "outputs": []
    },
    {
      "cell_type": "markdown",
      "source": [
        "Se quiser usar o PANDAS para enviar o e-mail para uma lista de pessoas, você pode usar o seguinte exemplo:"
      ],
      "metadata": {
        "id": "pZuzFr8_bpa8"
      }
    },
    {
      "cell_type": "code",
      "source": [
        "#Iniciar o programa informando quem vai mandar o e-mail e qual é o assunto\n",
        "app = SendEmail(fromaddr='@gmail.com', subject='Muito obrigado!')\n",
        "#Carregar arquivo Excel\n",
        "data = app.read_base(file='base.xlsx')\n",
        "#Adicionar configurações do servidor (Gmail)\n",
        "app.smtp_config(smtpserver='smtp.gmail.com', smtpport=465, login='@gmail.com', password='')\n",
        "\n",
        "#Loop principal\n",
        "for index, row in data.iterrows():\n",
        "  print(f\"Enviando para: {row['NOME']}\")\n",
        "  #Converter dados em string\n",
        "  data = row.apply(str)\n",
        "  app.add_mensage_html(htmlfile='mensagem.html', encoding='UTF-8', data=data)\n",
        "  #Informar o destinatário\n",
        "  app.send_email(toaddr=row['DESTINATARIO'])\n"
      ],
      "metadata": {
        "colab": {
          "base_uri": "https://localhost:8080/"
        },
        "id": "hVNtSD-ibn6P",
        "outputId": "2601e908-7b8a-4d0a-bc4d-364fb61d7e89"
      },
      "execution_count": 44,
      "outputs": [
        {
          "output_type": "stream",
          "name": "stdout",
          "text": [
            "Enviando para: Sr. Vinicius\n",
            "Enviando para: Sr. Marcos\n",
            "Enviando para: Sr. Lucas\n"
          ]
        }
      ]
    }
  ]
}