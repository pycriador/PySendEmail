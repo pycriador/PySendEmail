{
  "nbformat": 4,
  "nbformat_minor": 0,
  "metadata": {
    "colab": {
      "provenance": [],
      "collapsed_sections": [],
      "authorship_tag": "ABX9TyMYEk8WSTQffxYVhZnuhrrv",
      "include_colab_link": true
    },
    "kernelspec": {
      "name": "python3",
      "display_name": "Python 3"
    },
    "language_info": {
      "name": "python"
    }
  },
  "cells": [
    {
      "cell_type": "markdown",
      "metadata": {
        "id": "view-in-github",
        "colab_type": "text"
      },
      "source": [
        "<a href=\"https://colab.research.google.com/github/pycriador/PySendEmail/blob/main/pySendEmail.ipynb\" target=\"_parent\"><img src=\"https://colab.research.google.com/assets/colab-badge.svg\" alt=\"Open In Colab\"/></a>"
      ]
    },
    {
      "cell_type": "markdown",
      "source": [
        "# Python SendEmail (Gmail version)\n",
        "\n",
        "Um script simples para enviar e-mails com referências uma base no Excel, anexando uma mensagem em HTML (se desejar), colocando anexos (se desejar) e utilizando o próprio SMTP do Google (gmail). "
      ],
      "metadata": {
        "id": "XE03UdYjDjoo"
      }
    },
    {
      "cell_type": "code",
      "source": [
        "!pip install ninja2"
      ],
      "metadata": {
        "id": "fD843uMDDyMS"
      },
      "execution_count": null,
      "outputs": []
    },
    {
      "cell_type": "code",
      "execution_count": 12,
      "metadata": {
        "id": "jmabamIuDESr"
      },
      "outputs": [],
      "source": [
        "import smtplib\n",
        "from email import encoders\n",
        "#Python 2\n",
        "#from email.MIMEMultipart import MIMEMultipart\n",
        "#from email.MIMEText import MIMEText\n",
        "#from email.MIMEBase import MIMEBase\n",
        "#Python 3\n",
        "from email.mime.multipart import MIMEMultipart\n",
        "from email.mime.text import MIMEText\n",
        "from email.mime.base import MIMEBase\n",
        "#Modificar informações do HTML\n",
        "from jinja2 import Template, Environment, FileSystemLoader\n",
        "#Modificar informação do DOCX\n",
        "#from docxtpl import DocxTemplate"
      ]
    },
    {
      "cell_type": "markdown",
      "source": [
        "Informe o arquivo XLSX (arquivo Excel) com os dados que você deseja preencher no template"
      ],
      "metadata": {
        "id": "p1TVwfiBEnxI"
      }
    },
    {
      "cell_type": "code",
      "source": [
        "from google.colab import files\n",
        "import os\n",
        "import shutil\n",
        "\n",
        "print('Removendo arquivos de exemplo')\n",
        "try: shutil.rmtree('sample_data')\n",
        "except: pass\n",
        "\n",
        "print('Escolha o arquivo XLSX')\n",
        "ap_up = files.upload()\n",
        "\n",
        "#print('Limpando bases antigas')\n",
        "#try:\n",
        "#  os.remove('base.xlsx')\n",
        "#except Exception as e:\n",
        "#  print(f'Erro: {e}')\n",
        "\n",
        "#for upload in ap_up:\n",
        "#  os.rename(upload, \"base.xlsx\")"
      ],
      "metadata": {
        "id": "NyZWxPy9ElhS"
      },
      "execution_count": null,
      "outputs": []
    },
    {
      "cell_type": "code",
      "source": [
        "from google.colab import files\n",
        "\n",
        "print('Escolha o arquivo HTML')\n",
        "ap_up = files.upload()\n",
        "\n",
        "print('Criando pasta de templates')\n",
        "try:\n",
        "  !mkdir templates\n",
        "except Exception as e:\n",
        "  print(f'Erro: {e}')\n",
        "\n",
        "print('Movendo arquivos HTML para pasta de template')\n",
        "!mv *.html templates"
      ],
      "metadata": {
        "id": "REf2lPT3FF8q"
      },
      "execution_count": null,
      "outputs": []
    },
    {
      "cell_type": "markdown",
      "source": [
        "Se desejar anexar arquivos no seu e-mail, realizar o upload por aqui"
      ],
      "metadata": {
        "id": "HtbueTPQaxOM"
      }
    },
    {
      "cell_type": "code",
      "source": [
        "from google.colab import files\n",
        "\n",
        "print(\"Carregar anexos\")\n",
        "ap_up = files.upload()"
      ],
      "metadata": {
        "id": "C-inaHCFWsxc"
      },
      "execution_count": null,
      "outputs": []
    },
    {
      "cell_type": "markdown",
      "source": [
        "Iniciando o programa"
      ],
      "metadata": {
        "id": "9c4KVZZfZPUt"
      }
    },
    {
      "cell_type": "code",
      "source": [
        "import pandas as pd\n",
        "from jinja2 import Template, Environment, FileSystemLoader\n",
        "\n",
        "class SendEmail():\n",
        "  def __init__(self, fromaddr=None, subject=None):\n",
        "    #Configura variáveis da Classe\n",
        "    self.fromaddr = fromaddr\n",
        "    self.subject = subject\n",
        "\n",
        "    #Cria a mensagem como MIMEMultipart\n",
        "    self.msg = MIMEMultipart()\n",
        "    #Já adiciona o remetente e o assunto\n",
        "    self.msg['From'] = fromaddr\n",
        "    self.msg['Subject'] = subject\n",
        "\n",
        "  def read_base(self, file=None, sheet=None):\n",
        "    #Abrir planilha Excel em XLSX\n",
        "    xlsx = pd.ExcelFile(file)\n",
        "    if sheet:\n",
        "      return pd.read_excel(xlsx, sheet)\n",
        "    else:\n",
        "      return pd.read_excel(xlsx)\n",
        "\n",
        "  def attachfile(self, filename=None):\n",
        "    #Abrir o anexo\n",
        "    attachment = open(filename, \"rb\")\n",
        "    #Converter o anexo\n",
        "    part = MIMEBase('application', 'octet-stream')\n",
        "    part.set_payload((attachment).read())\n",
        "    encoders.encode_base64(part)\n",
        "    #Adicionar o header\n",
        "    part.add_header('Content-Disposition', \"attachment; filename= %s\" % filename)\n",
        "    #Adicionar o anexo na mensagem principal\n",
        "    self.msg.attach(part)\n",
        "    #Fechar o arquivo\n",
        "    attachment.close()\n",
        "\n",
        "  def read_template(self, templates='templates', page=None, encoding='ISO-8859-1'):\n",
        "    # Carregar diretório de templates\n",
        "    file_loader = FileSystemLoader(templates, encoding=encoding)\n",
        "    env = Environment(loader=file_loader)\n",
        "    # Carregar o template\n",
        "    self.template = env.get_template(page)\n",
        "\n",
        "  def add_mensage_html(self, htmlfile=None, encoding='UTF-8', data=None):\n",
        "    app.read_template(templates='templates', page=htmlfile, encoding=encoding)\n",
        "    html = app.template.render(data)\n",
        "    self.msg.attach(MIMEText(html,'html','UTF-8'))\n",
        "\n",
        "  def smtp_config(self, smtpserver=None, smtpport=465, login=None, password=None):\n",
        "    #Configurações do Servidor Gmail\n",
        "    self.server = smtplib.SMTP_SSL(smtpserver, int(smtpport))\n",
        "    self.server.ehlo()\n",
        "    #Informar usuário e senha para autenticação\n",
        "    self.server.login(login, password)\n",
        "\n",
        "  def send_email(self, toaddr=None):\n",
        "    try:\n",
        "      #Adicionar o destinatário\n",
        "      self.msg['To'] = toaddr\n",
        "      #Converter a mensagem em string\n",
        "      text = self.msg.as_string()\n",
        "      self.server.sendmail(self.fromaddr, [toaddr], text)\n",
        "      #self.server.quit()\n",
        "    except Exception as e:\n",
        "      print(e)\n"
      ],
      "metadata": {
        "id": "DIhhP_CNILms"
      },
      "execution_count": 36,
      "outputs": []
    },
    {
      "cell_type": "markdown",
      "source": [
        "Agora você pode personalizar os dados de envio. Os comentários estão explicando cada parte do código, qualquer dúvida é só me chamar!"
      ],
      "metadata": {
        "id": "j3wwct1iZXcE"
      }
    },
    {
      "cell_type": "code",
      "source": [
        "#Iniciar o programa informando quem vai mandar o e-mail e qual é o assunto\n",
        "app = SendEmail(fromaddr='@gmail.com', subject='Muito obrigado!')\n",
        "\n",
        "#Dados enviados para substituição no template HTML\n",
        "data = {'NOME': 'Sr. Vinicius', 'CONTATO': '@gmail.com'}\n",
        "app.add_mensage_html(htmlfile='mensagem.html', encoding='UTF-8', data=data)\n",
        "\n",
        "#Para adicionar anexo\n",
        "app.attachfile(filename='base.xlsx')\n",
        "# Adicionar o segundo anexo (se quiser)\n",
        "#app.attachfile(filename='templates/mensagem.html')\n",
        "\n",
        "# Para autenticar no SMTP do Google, você precisa criar uma aplicação, maiores \n",
        "# detalhes na documentação (Inglês)\n",
        "# Documentação: https://support.google.com/mail/answer/185833?hl=en\n",
        "# Resumindo, você precisa acessar a URL:\n",
        "# https://myaccount.google.com/\n",
        "# Ir em:\n",
        "# Segurança -> Como fazer login no Google (Senhas de App) -> Login -> \n",
        "# Selecionar App -> Selecionar dispositivo -> Gerar\n",
        "# Vai gerar uma senha aleatória, você vai usar essa senha nessa aplicação\n",
        "# É só informar o seu e-mail em (login) e senha em (password)\n",
        "\n",
        "#Adicionar configurações do servidor (Gmail)\n",
        "app.smtp_config(smtpserver='smtp.gmail.com', smtpport=465, login='@gmail.com', password='')\n",
        "#Informar o destinatário\n",
        "app.send_email(toaddr='')\n"
      ],
      "metadata": {
        "id": "c0EmToAlI3qF"
      },
      "execution_count": 37,
      "outputs": []
    },
    {
      "cell_type": "markdown",
      "source": [
        "Se quiser usar o PANDAS para enviar o e-mail para uma lista de pessoas, você pode usar o seguinte exemplo:"
      ],
      "metadata": {
        "id": "pZuzFr8_bpa8"
      }
    },
    {
      "cell_type": "code",
      "source": [
        "#Iniciar o programa informando quem vai mandar o e-mail e qual é o assunto\n",
        "app = SendEmail(fromaddr='@gmail.com', subject='Muito obrigado!')\n",
        "#Carregar arquivo Excel\n",
        "data = app.read_base(file='base.xlsx')\n",
        "#Adicionar configurações do servidor (Gmail)\n",
        "app.smtp_config(smtpserver='smtp.gmail.com', smtpport=465, login='@gmail.com', password='')\n",
        "\n",
        "#Loop principal\n",
        "for index, row in data.iterrows():\n",
        "  print(f\"Enviando para: {row['NOME']}\")\n",
        "  #Converter dados em string\n",
        "  data = row.apply(str)\n",
        "  app.add_mensage_html(htmlfile='mensagem.html', encoding='UTF-8', data=data)\n",
        "  #Informar o destinatário\n",
        "  app.send_email(toaddr=row['DESTINATARIO'])\n"
      ],
      "metadata": {
        "id": "hVNtSD-ibn6P"
      },
      "execution_count": null,
      "outputs": []
    }
  ]
}